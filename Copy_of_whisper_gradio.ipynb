{
 "cells": [
  {
   "cell_type": "markdown",
   "metadata": {
    "id": "oBB6SkL2REFn"
   },
   "source": [
    "**Whisper demo** \n",
    "\n",
    "Whisper is a general-purpose speech recognition model. It is trained on a large dataset of diverse audio and is also a multi-task model that can perform multilingual speech recognition as well as speech translation and language identification. This demo cuts audio after around 30 secs.\n",
    "\n"
   ]
  },
  {
   "cell_type": "markdown",
   "metadata": {
    "id": "2o-2jPqITvtD"
   },
   "source": [
    "### 1. Install dependencies"
   ]
  },
  {
   "cell_type": "code",
   "execution_count": 1,
   "metadata": {
    "colab": {
     "base_uri": "https://localhost:8080/"
    },
    "id": "8WYSV-73rslm",
    "outputId": "a2d3d9e9-98b8-4673-aef1-9220382616a7",
    "tags": []
   },
   "outputs": [
    {
     "name": "stdout",
     "output_type": "stream",
     "text": [
      "Cloning into 'whisper'...\n",
      "remote: Enumerating objects: 86, done.\u001b[K\n",
      "remote: Total 86 (delta 0), reused 0 (delta 0), pack-reused 86\u001b[K\n",
      "Unpacking objects: 100% (86/86), 15.41 KiB | 876.00 KiB/s, done.\n",
      "/home/corey/voice-assistant/whisper\n",
      "Requirement already satisfied: transformers in /home/corey/mambaforge/envs/voice/lib/python3.9/site-packages (from -r requirements.txt (line 1)) (4.24.0)\n",
      "Requirement already satisfied: packaging>=20.0 in /home/corey/mambaforge/envs/voice/lib/python3.9/site-packages (from transformers->-r requirements.txt (line 1)) (21.3)\n",
      "Requirement already satisfied: tqdm>=4.27 in /home/corey/mambaforge/envs/voice/lib/python3.9/site-packages (from transformers->-r requirements.txt (line 1)) (4.64.1)\n",
      "Requirement already satisfied: regex!=2019.12.17 in /home/corey/mambaforge/envs/voice/lib/python3.9/site-packages (from transformers->-r requirements.txt (line 1)) (2022.10.31)\n",
      "Requirement already satisfied: numpy>=1.17 in /home/corey/mambaforge/envs/voice/lib/python3.9/site-packages (from transformers->-r requirements.txt (line 1)) (1.23.5)\n",
      "Requirement already satisfied: tokenizers!=0.11.3,<0.14,>=0.11.1 in /home/corey/mambaforge/envs/voice/lib/python3.9/site-packages (from transformers->-r requirements.txt (line 1)) (0.13.1)\n",
      "Requirement already satisfied: requests in /home/corey/mambaforge/envs/voice/lib/python3.9/site-packages (from transformers->-r requirements.txt (line 1)) (2.28.1)\n",
      "Requirement already satisfied: huggingface-hub<1.0,>=0.10.0 in /home/corey/mambaforge/envs/voice/lib/python3.9/site-packages (from transformers->-r requirements.txt (line 1)) (0.13.2)\n",
      "Requirement already satisfied: filelock in /home/corey/mambaforge/envs/voice/lib/python3.9/site-packages (from transformers->-r requirements.txt (line 1)) (3.8.0)\n",
      "Requirement already satisfied: pyyaml>=5.1 in /home/corey/mambaforge/envs/voice/lib/python3.9/site-packages (from transformers->-r requirements.txt (line 1)) (6.0)\n",
      "Requirement already satisfied: typing-extensions>=3.7.4.3 in /home/corey/mambaforge/envs/voice/lib/python3.9/site-packages (from huggingface-hub<1.0,>=0.10.0->transformers->-r requirements.txt (line 1)) (4.4.0)\n",
      "Requirement already satisfied: pyparsing!=3.0.5,>=2.0.2 in /home/corey/mambaforge/envs/voice/lib/python3.9/site-packages (from packaging>=20.0->transformers->-r requirements.txt (line 1)) (3.0.9)\n",
      "Requirement already satisfied: certifi>=2017.4.17 in /home/corey/mambaforge/envs/voice/lib/python3.9/site-packages (from requests->transformers->-r requirements.txt (line 1)) (2022.9.24)\n",
      "Requirement already satisfied: urllib3<1.27,>=1.21.1 in /home/corey/mambaforge/envs/voice/lib/python3.9/site-packages (from requests->transformers->-r requirements.txt (line 1)) (1.26.13)\n",
      "Requirement already satisfied: idna<4,>=2.5 in /home/corey/mambaforge/envs/voice/lib/python3.9/site-packages (from requests->transformers->-r requirements.txt (line 1)) (3.4)\n",
      "Requirement already satisfied: charset-normalizer<3,>=2 in /home/corey/mambaforge/envs/voice/lib/python3.9/site-packages (from requests->transformers->-r requirements.txt (line 1)) (2.1.1)\n",
      "Requirement already satisfied: gradio in /home/corey/mambaforge/envs/voice/lib/python3.9/site-packages (3.22.1)\n",
      "Requirement already satisfied: requests in /home/corey/mambaforge/envs/voice/lib/python3.9/site-packages (from gradio) (2.28.1)\n",
      "Requirement already satisfied: python-multipart in /home/corey/mambaforge/envs/voice/lib/python3.9/site-packages (from gradio) (0.0.6)\n",
      "Requirement already satisfied: pydantic in /home/corey/mambaforge/envs/voice/lib/python3.9/site-packages (from gradio) (1.10.6)\n",
      "Requirement already satisfied: httpx in /home/corey/mambaforge/envs/voice/lib/python3.9/site-packages (from gradio) (0.23.3)\n",
      "Requirement already satisfied: mdit-py-plugins<=0.3.3 in /home/corey/mambaforge/envs/voice/lib/python3.9/site-packages (from gradio) (0.3.3)\n",
      "Requirement already satisfied: uvicorn in /home/corey/mambaforge/envs/voice/lib/python3.9/site-packages (from gradio) (0.21.1)\n",
      "Requirement already satisfied: fsspec in /home/corey/mambaforge/envs/voice/lib/python3.9/site-packages (from gradio) (2022.11.0)\n",
      "Requirement already satisfied: ffmpy in /home/corey/mambaforge/envs/voice/lib/python3.9/site-packages (from gradio) (0.3.0)\n",
      "Requirement already satisfied: markdown-it-py[linkify]>=2.0.0 in /home/corey/mambaforge/envs/voice/lib/python3.9/site-packages (from gradio) (2.2.0)\n",
      "Requirement already satisfied: pillow in /home/corey/mambaforge/envs/voice/lib/python3.9/site-packages (from gradio) (9.2.0)\n",
      "Requirement already satisfied: pydub in /home/corey/mambaforge/envs/voice/lib/python3.9/site-packages (from gradio) (0.25.1)\n",
      "Requirement already satisfied: numpy in /home/corey/mambaforge/envs/voice/lib/python3.9/site-packages (from gradio) (1.23.5)\n",
      "Requirement already satisfied: matplotlib in /home/corey/mambaforge/envs/voice/lib/python3.9/site-packages (from gradio) (3.6.2)\n",
      "Requirement already satisfied: typing-extensions in /home/corey/mambaforge/envs/voice/lib/python3.9/site-packages (from gradio) (4.4.0)\n",
      "Requirement already satisfied: pandas in /home/corey/mambaforge/envs/voice/lib/python3.9/site-packages (from gradio) (1.5.2)\n",
      "Requirement already satisfied: orjson in /home/corey/mambaforge/envs/voice/lib/python3.9/site-packages (from gradio) (3.8.7)\n",
      "Requirement already satisfied: aiofiles in /home/corey/mambaforge/envs/voice/lib/python3.9/site-packages (from gradio) (23.1.0)\n",
      "Requirement already satisfied: aiohttp in /home/corey/mambaforge/envs/voice/lib/python3.9/site-packages (from gradio) (3.8.3)\n",
      "Requirement already satisfied: altair>=4.2.0 in /home/corey/mambaforge/envs/voice/lib/python3.9/site-packages (from gradio) (4.2.2)\n",
      "Requirement already satisfied: websockets>=10.0 in /home/corey/mambaforge/envs/voice/lib/python3.9/site-packages (from gradio) (10.4)\n",
      "Requirement already satisfied: pyyaml in /home/corey/mambaforge/envs/voice/lib/python3.9/site-packages (from gradio) (6.0)\n",
      "Requirement already satisfied: markupsafe in /home/corey/mambaforge/envs/voice/lib/python3.9/site-packages (from gradio) (2.1.1)\n",
      "Requirement already satisfied: fastapi in /home/corey/mambaforge/envs/voice/lib/python3.9/site-packages (from gradio) (0.95.0)\n",
      "Requirement already satisfied: jinja2 in /home/corey/mambaforge/envs/voice/lib/python3.9/site-packages (from gradio) (3.1.2)\n",
      "Requirement already satisfied: huggingface-hub>=0.13.0 in /home/corey/mambaforge/envs/voice/lib/python3.9/site-packages (from gradio) (0.13.2)\n",
      "Requirement already satisfied: jsonschema>=3.0 in /home/corey/mambaforge/envs/voice/lib/python3.9/site-packages (from altair>=4.2.0->gradio) (4.17.1)\n",
      "Requirement already satisfied: toolz in /home/corey/mambaforge/envs/voice/lib/python3.9/site-packages (from altair>=4.2.0->gradio) (0.12.0)\n",
      "Requirement already satisfied: entrypoints in /home/corey/mambaforge/envs/voice/lib/python3.9/site-packages (from altair>=4.2.0->gradio) (0.4)\n",
      "Requirement already satisfied: filelock in /home/corey/mambaforge/envs/voice/lib/python3.9/site-packages (from huggingface-hub>=0.13.0->gradio) (3.8.0)\n",
      "Requirement already satisfied: packaging>=20.9 in /home/corey/mambaforge/envs/voice/lib/python3.9/site-packages (from huggingface-hub>=0.13.0->gradio) (21.3)\n",
      "Requirement already satisfied: tqdm>=4.42.1 in /home/corey/mambaforge/envs/voice/lib/python3.9/site-packages (from huggingface-hub>=0.13.0->gradio) (4.64.1)\n",
      "Requirement already satisfied: mdurl~=0.1 in /home/corey/mambaforge/envs/voice/lib/python3.9/site-packages (from markdown-it-py[linkify]>=2.0.0->gradio) (0.1.2)\n",
      "Requirement already satisfied: linkify-it-py<3,>=1 in /home/corey/mambaforge/envs/voice/lib/python3.9/site-packages (from markdown-it-py[linkify]>=2.0.0->gradio) (2.0.0)\n",
      "Requirement already satisfied: python-dateutil>=2.8.1 in /home/corey/mambaforge/envs/voice/lib/python3.9/site-packages (from pandas->gradio) (2.8.2)\n",
      "Requirement already satisfied: pytz>=2020.1 in /home/corey/mambaforge/envs/voice/lib/python3.9/site-packages (from pandas->gradio) (2022.6)\n",
      "Requirement already satisfied: aiosignal>=1.1.2 in /home/corey/mambaforge/envs/voice/lib/python3.9/site-packages (from aiohttp->gradio) (1.3.1)\n",
      "Requirement already satisfied: multidict<7.0,>=4.5 in /home/corey/mambaforge/envs/voice/lib/python3.9/site-packages (from aiohttp->gradio) (6.0.2)\n",
      "Requirement already satisfied: async-timeout<5.0,>=4.0.0a3 in /home/corey/mambaforge/envs/voice/lib/python3.9/site-packages (from aiohttp->gradio) (4.0.2)\n",
      "Requirement already satisfied: frozenlist>=1.1.1 in /home/corey/mambaforge/envs/voice/lib/python3.9/site-packages (from aiohttp->gradio) (1.3.3)\n",
      "Requirement already satisfied: yarl<2.0,>=1.0 in /home/corey/mambaforge/envs/voice/lib/python3.9/site-packages (from aiohttp->gradio) (1.8.1)\n",
      "Requirement already satisfied: charset-normalizer<3.0,>=2.0 in /home/corey/mambaforge/envs/voice/lib/python3.9/site-packages (from aiohttp->gradio) (2.1.1)\n",
      "Requirement already satisfied: attrs>=17.3.0 in /home/corey/mambaforge/envs/voice/lib/python3.9/site-packages (from aiohttp->gradio) (22.1.0)\n",
      "Requirement already satisfied: starlette<0.27.0,>=0.26.1 in /home/corey/mambaforge/envs/voice/lib/python3.9/site-packages (from fastapi->gradio) (0.26.1)\n",
      "Requirement already satisfied: certifi in /home/corey/mambaforge/envs/voice/lib/python3.9/site-packages (from httpx->gradio) (2022.9.24)\n",
      "Requirement already satisfied: httpcore<0.17.0,>=0.15.0 in /home/corey/mambaforge/envs/voice/lib/python3.9/site-packages (from httpx->gradio) (0.16.3)\n",
      "Requirement already satisfied: sniffio in /home/corey/mambaforge/envs/voice/lib/python3.9/site-packages (from httpx->gradio) (1.3.0)\n",
      "Requirement already satisfied: rfc3986[idna2008]<2,>=1.3 in /home/corey/mambaforge/envs/voice/lib/python3.9/site-packages (from httpx->gradio) (1.5.0)\n",
      "Requirement already satisfied: cycler>=0.10 in /home/corey/mambaforge/envs/voice/lib/python3.9/site-packages (from matplotlib->gradio) (0.11.0)\n",
      "Requirement already satisfied: pyparsing>=2.2.1 in /home/corey/mambaforge/envs/voice/lib/python3.9/site-packages (from matplotlib->gradio) (3.0.9)\n",
      "Requirement already satisfied: kiwisolver>=1.0.1 in /home/corey/mambaforge/envs/voice/lib/python3.9/site-packages (from matplotlib->gradio) (1.4.4)\n",
      "Requirement already satisfied: contourpy>=1.0.1 in /home/corey/mambaforge/envs/voice/lib/python3.9/site-packages (from matplotlib->gradio) (1.0.6)\n",
      "Requirement already satisfied: fonttools>=4.22.0 in /home/corey/mambaforge/envs/voice/lib/python3.9/site-packages (from matplotlib->gradio) (4.38.0)\n",
      "Requirement already satisfied: idna<4,>=2.5 in /home/corey/mambaforge/envs/voice/lib/python3.9/site-packages (from requests->gradio) (3.4)\n",
      "Requirement already satisfied: urllib3<1.27,>=1.21.1 in /home/corey/mambaforge/envs/voice/lib/python3.9/site-packages (from requests->gradio) (1.26.13)\n",
      "Requirement already satisfied: click>=7.0 in /home/corey/mambaforge/envs/voice/lib/python3.9/site-packages (from uvicorn->gradio) (8.1.3)\n",
      "Requirement already satisfied: h11>=0.8 in /home/corey/mambaforge/envs/voice/lib/python3.9/site-packages (from uvicorn->gradio) (0.14.0)\n",
      "Requirement already satisfied: anyio<5.0,>=3.0 in /home/corey/mambaforge/envs/voice/lib/python3.9/site-packages (from httpcore<0.17.0,>=0.15.0->httpx->gradio) (3.6.2)\n",
      "Requirement already satisfied: pyrsistent!=0.17.0,!=0.17.1,!=0.17.2,>=0.14.0 in /home/corey/mambaforge/envs/voice/lib/python3.9/site-packages (from jsonschema>=3.0->altair>=4.2.0->gradio) (0.19.2)\n",
      "Requirement already satisfied: uc-micro-py in /home/corey/mambaforge/envs/voice/lib/python3.9/site-packages (from linkify-it-py<3,>=1->markdown-it-py[linkify]>=2.0.0->gradio) (1.0.1)\n",
      "Requirement already satisfied: six>=1.5 in /home/corey/mambaforge/envs/voice/lib/python3.9/site-packages (from python-dateutil>=2.8.1->pandas->gradio) (1.16.0)\n"
     ]
    }
   ],
   "source": [
    "!git clone https://huggingface.co/spaces/openai/whisper\n",
    "%cd whisper\n",
    "!pip install -r requirements.txt\n",
    "!pip install gradio"
   ]
  },
  {
   "cell_type": "markdown",
   "metadata": {
    "id": "g51-cBLlTsO4"
   },
   "source": [
    "### 2. Run\n",
    "\n",
    "Run this cell to show the gradio app"
   ]
  },
  {
   "cell_type": "code",
   "execution_count": 2,
   "metadata": {
    "colab": {
     "base_uri": "https://localhost:8080/",
     "height": 668
    },
    "id": "dMhWUqKdNzn3",
    "outputId": "0ccdda3b-bd12-4836-d4af-ba8e8cace36c"
   },
   "outputs": [
    {
     "name": "stdout",
     "output_type": "stream",
     "text": [
      "Collecting git+https://github.com/openai/whisper.git\n",
      "  Cloning https://github.com/openai/whisper.git to /tmp/pip-req-build-kh401x_3\n"
     ]
    },
    {
     "name": "stderr",
     "output_type": "stream",
     "text": [
      "  Running command git clone --filter=blob:none --quiet https://github.com/openai/whisper.git /tmp/pip-req-build-kh401x_3\n"
     ]
    },
    {
     "name": "stdout",
     "output_type": "stream",
     "text": [
      "  Resolved https://github.com/openai/whisper.git to commit 6dea21fd7f7253bfe450f1e2512a0fe47ee2d258\n",
      "  Installing build dependencies: started\n",
      "  Installing build dependencies: finished with status 'done'\n",
      "  Getting requirements to build wheel: started\n",
      "  Getting requirements to build wheel: finished with status 'done'\n",
      "  Preparing metadata (pyproject.toml): started\n",
      "  Preparing metadata (pyproject.toml): finished with status 'done'\n",
      "Requirement already satisfied: tqdm in /home/corey/mambaforge/envs/voice/lib/python3.9/site-packages (from openai-whisper==20230314) (4.64.1)\n",
      "Requirement already satisfied: triton==2.0.0 in /home/corey/mambaforge/envs/voice/lib/python3.9/site-packages (from openai-whisper==20230314) (2.0.0)\n",
      "Requirement already satisfied: numpy in /home/corey/mambaforge/envs/voice/lib/python3.9/site-packages (from openai-whisper==20230314) (1.23.5)\n",
      "Requirement already satisfied: torch in /home/corey/mambaforge/envs/voice/lib/python3.9/site-packages (from openai-whisper==20230314) (1.12.1.post201)\n",
      "Requirement already satisfied: ffmpeg-python==0.2.0 in /home/corey/mambaforge/envs/voice/lib/python3.9/site-packages (from openai-whisper==20230314) (0.2.0)\n",
      "Requirement already satisfied: numba in /home/corey/mambaforge/envs/voice/lib/python3.9/site-packages (from openai-whisper==20230314) (0.56.4)\n",
      "Requirement already satisfied: more-itertools in /home/corey/mambaforge/envs/voice/lib/python3.9/site-packages (from openai-whisper==20230314) (9.1.0)\n",
      "Requirement already satisfied: tiktoken==0.3.1 in /home/corey/mambaforge/envs/voice/lib/python3.9/site-packages (from openai-whisper==20230314) (0.3.1)\n",
      "Requirement already satisfied: future in /home/corey/mambaforge/envs/voice/lib/python3.9/site-packages (from ffmpeg-python==0.2.0->openai-whisper==20230314) (0.18.3)\n",
      "Requirement already satisfied: requests>=2.26.0 in /home/corey/mambaforge/envs/voice/lib/python3.9/site-packages (from tiktoken==0.3.1->openai-whisper==20230314) (2.28.1)\n",
      "Requirement already satisfied: regex>=2022.1.18 in /home/corey/mambaforge/envs/voice/lib/python3.9/site-packages (from tiktoken==0.3.1->openai-whisper==20230314) (2022.10.31)\n",
      "Requirement already satisfied: lit in /home/corey/mambaforge/envs/voice/lib/python3.9/site-packages (from triton==2.0.0->openai-whisper==20230314) (15.0.7)\n",
      "Requirement already satisfied: cmake in /home/corey/mambaforge/envs/voice/lib/python3.9/site-packages (from triton==2.0.0->openai-whisper==20230314) (3.26.0)\n",
      "Requirement already satisfied: filelock in /home/corey/mambaforge/envs/voice/lib/python3.9/site-packages (from triton==2.0.0->openai-whisper==20230314) (3.8.0)\n",
      "Requirement already satisfied: setuptools in /home/corey/mambaforge/envs/voice/lib/python3.9/site-packages (from numba->openai-whisper==20230314) (65.5.1)\n",
      "Requirement already satisfied: llvmlite<0.40,>=0.39.0dev0 in /home/corey/mambaforge/envs/voice/lib/python3.9/site-packages (from numba->openai-whisper==20230314) (0.39.1)\n",
      "Requirement already satisfied: typing_extensions in /home/corey/mambaforge/envs/voice/lib/python3.9/site-packages (from torch->openai-whisper==20230314) (4.4.0)\n",
      "Requirement already satisfied: charset-normalizer<3,>=2 in /home/corey/mambaforge/envs/voice/lib/python3.9/site-packages (from requests>=2.26.0->tiktoken==0.3.1->openai-whisper==20230314) (2.1.1)\n",
      "Requirement already satisfied: certifi>=2017.4.17 in /home/corey/mambaforge/envs/voice/lib/python3.9/site-packages (from requests>=2.26.0->tiktoken==0.3.1->openai-whisper==20230314) (2022.9.24)\n",
      "Requirement already satisfied: urllib3<1.27,>=1.21.1 in /home/corey/mambaforge/envs/voice/lib/python3.9/site-packages (from requests>=2.26.0->tiktoken==0.3.1->openai-whisper==20230314) (1.26.13)\n",
      "Requirement already satisfied: idna<4,>=2.5 in /home/corey/mambaforge/envs/voice/lib/python3.9/site-packages (from requests>=2.26.0->tiktoken==0.3.1->openai-whisper==20230314) (3.4)\n"
     ]
    },
    {
     "name": "stderr",
     "output_type": "stream",
     "text": [
      "/home/corey/mambaforge/envs/voice/lib/python3.9/site-packages/tqdm/auto.py:22: TqdmWarning: IProgress not found. Please update jupyter and ipywidgets. See https://ipywidgets.readthedocs.io/en/stable/user_install.html\n",
      "  from .autonotebook import tqdm as notebook_tqdm\n",
      "/home/corey/mambaforge/envs/voice/lib/python3.9/site-packages/gradio/layouts.py:73: UserWarning: mobile_collapse is no longer supported.\n",
      "  warnings.warn(\"mobile_collapse is no longer supported.\")\n"
     ]
    },
    {
     "name": "stdout",
     "output_type": "stream",
     "text": [
      "Running on local URL:  http://127.0.0.1:7860\n",
      "\n",
      "To create a public link, set `share=True` in `launch()`.\n"
     ]
    },
    {
     "data": {
      "text/html": [
       "<div><iframe src=\"http://127.0.0.1:7860/\" width=\"100%\" height=\"500\" allow=\"autoplay; camera; microphone; clipboard-read; clipboard-write;\" frameborder=\"0\" allowfullscreen></iframe></div>"
      ],
      "text/plain": [
       "<IPython.core.display.HTML object>"
      ]
     },
     "metadata": {},
     "output_type": "display_data"
    },
    {
     "data": {
      "text/plain": []
     },
     "execution_count": 2,
     "metadata": {},
     "output_type": "execute_result"
    },
    {
     "name": "stderr",
     "output_type": "stream",
     "text": [
      "/home/corey/mambaforge/envs/voice/lib/python3.9/site-packages/gradio/processing_utils.py:239: UserWarning: Trying to convert audio automatically from int32 to 16-bit int format.\n",
      "  warnings.warn(warning.format(data.dtype))\n"
     ]
    },
    {
     "name": "stdout",
     "output_type": "stream",
     "text": [
      "I don't know what my input microphone is right now.\n"
     ]
    },
    {
     "name": "stderr",
     "output_type": "stream",
     "text": [
      "/home/corey/mambaforge/envs/voice/lib/python3.9/site-packages/gradio/processing_utils.py:239: UserWarning: Trying to convert audio automatically from int32 to 16-bit int format.\n",
      "  warnings.warn(warning.format(data.dtype))\n"
     ]
    },
    {
     "name": "stdout",
     "output_type": "stream",
     "text": [
      "What about now?\n"
     ]
    }
   ],
   "source": [
    "import os\n",
    "os.system(\"pip install git+https://github.com/openai/whisper.git\")\n",
    "import gradio as gr\n",
    "import whisper\n",
    "\n",
    "from share_btn import community_icon_html, loading_icon_html, share_js\n",
    "\n",
    "model = whisper.load_model(\"small\")\n",
    "\n",
    "\n",
    "        \n",
    "def inference(audio):\n",
    "    audio = whisper.load_audio(audio)\n",
    "    audio = whisper.pad_or_trim(audio)\n",
    "    \n",
    "    mel = whisper.log_mel_spectrogram(audio).to(model.device)\n",
    "    \n",
    "    _, probs = model.detect_language(mel)\n",
    "    \n",
    "    options = whisper.DecodingOptions(fp16 = False)\n",
    "    result = whisper.decode(model, mel, options)\n",
    "    \n",
    "    print(result.text)\n",
    "    return result.text, gr.update(visible=True), gr.update(visible=True), gr.update(visible=True)\n",
    "\n",
    "\n",
    "\n",
    "\n",
    "css = \"\"\"\n",
    "        .gradio-container {\n",
    "            font-family: 'IBM Plex Sans', sans-serif;\n",
    "        }\n",
    "        .gr-button {\n",
    "            color: white;\n",
    "            border-color: black;\n",
    "            background: black;\n",
    "        }\n",
    "        input[type='range'] {\n",
    "            accent-color: black;\n",
    "        }\n",
    "        .dark input[type='range'] {\n",
    "            accent-color: #dfdfdf;\n",
    "        }\n",
    "        .container {\n",
    "            max-width: 730px;\n",
    "            margin: auto;\n",
    "            padding-top: 1.5rem;\n",
    "        }\n",
    "     \n",
    "        .details:hover {\n",
    "            text-decoration: underline;\n",
    "        }\n",
    "        .gr-button {\n",
    "            white-space: nowrap;\n",
    "        }\n",
    "        .gr-button:focus {\n",
    "            border-color: rgb(147 197 253 / var(--tw-border-opacity));\n",
    "            outline: none;\n",
    "            box-shadow: var(--tw-ring-offset-shadow), var(--tw-ring-shadow), var(--tw-shadow, 0 0 #0000);\n",
    "            --tw-border-opacity: 1;\n",
    "            --tw-ring-offset-shadow: var(--tw-ring-inset) 0 0 0 var(--tw-ring-offset-width) var(--tw-ring-offset-color);\n",
    "            --tw-ring-shadow: var(--tw-ring-inset) 0 0 0 calc(3px var(--tw-ring-offset-width)) var(--tw-ring-color);\n",
    "            --tw-ring-color: rgb(191 219 254 / var(--tw-ring-opacity));\n",
    "            --tw-ring-opacity: .5;\n",
    "        }\n",
    "        .footer {\n",
    "            margin-bottom: 45px;\n",
    "            margin-top: 35px;\n",
    "            text-align: center;\n",
    "            border-bottom: 1px solid #e5e5e5;\n",
    "        }\n",
    "        .footer>p {\n",
    "            font-size: .8rem;\n",
    "            display: inline-block;\n",
    "            padding: 0 10px;\n",
    "            transform: translateY(10px);\n",
    "            background: white;\n",
    "        }\n",
    "        .dark .footer {\n",
    "            border-color: #303030;\n",
    "        }\n",
    "        .dark .footer>p {\n",
    "            background: #0b0f19;\n",
    "        }\n",
    "        .prompt h4{\n",
    "            margin: 1.25em 0 .25em 0;\n",
    "            font-weight: bold;\n",
    "            font-size: 115%;\n",
    "        }\n",
    "        .animate-spin {\n",
    "            animation: spin 1s linear infinite;\n",
    "        }\n",
    "        @keyframes spin {\n",
    "            from {\n",
    "                transform: rotate(0deg);\n",
    "            }\n",
    "            to {\n",
    "                transform: rotate(360deg);\n",
    "            }\n",
    "        }\n",
    "        #share-btn-container {\n",
    "            display: flex; margin-top: 1.5rem !important; padding-left: 0.5rem !important; padding-right: 0.5rem !important; background-color: #000000; justify-content: center; align-items: center; border-radius: 9999px !important; width: 13rem;\n",
    "        }\n",
    "        #share-btn {\n",
    "            all: initial; color: #ffffff;font-weight: 600; cursor:pointer; font-family: 'IBM Plex Sans', sans-serif; margin-left: 0.5rem !important; padding-top: 0.25rem !important; padding-bottom: 0.25rem !important;\n",
    "        }\n",
    "        #share-btn * {\n",
    "            all: unset;\n",
    "        }\n",
    "\"\"\"\n",
    "\n",
    "block = gr.Blocks(css=css)\n",
    "\n",
    "\n",
    "\n",
    "with block:\n",
    "    gr.HTML(\n",
    "        \"\"\"\n",
    "            <div style=\"text-align: center; max-width: 650px; margin: 0 auto;\">\n",
    "              <div\n",
    "                style=\"\n",
    "                  display: inline-flex;\n",
    "                  align-items: center;\n",
    "                  gap: 0.8rem;\n",
    "                  font-size: 1.75rem;\n",
    "                \"\n",
    "              >\n",
    "                <svg\n",
    "                  width=\"0.65em\"\n",
    "                  height=\"0.65em\"\n",
    "                  viewBox=\"0 0 115 115\"\n",
    "                  fill=\"none\"\n",
    "                  xmlns=\"http://www.w3.org/2000/svg\"\n",
    "                >\n",
    "                  <rect width=\"23\" height=\"23\" fill=\"white\"></rect>\n",
    "                  <rect y=\"69\" width=\"23\" height=\"23\" fill=\"white\"></rect>\n",
    "                  <rect x=\"23\" width=\"23\" height=\"23\" fill=\"#AEAEAE\"></rect>\n",
    "                  <rect x=\"23\" y=\"69\" width=\"23\" height=\"23\" fill=\"#AEAEAE\"></rect>\n",
    "                  <rect x=\"46\" width=\"23\" height=\"23\" fill=\"white\"></rect>\n",
    "                  <rect x=\"46\" y=\"69\" width=\"23\" height=\"23\" fill=\"white\"></rect>\n",
    "                  <rect x=\"69\" width=\"23\" height=\"23\" fill=\"black\"></rect>\n",
    "                  <rect x=\"69\" y=\"69\" width=\"23\" height=\"23\" fill=\"black\"></rect>\n",
    "                  <rect x=\"92\" width=\"23\" height=\"23\" fill=\"#D9D9D9\"></rect>\n",
    "                  <rect x=\"92\" y=\"69\" width=\"23\" height=\"23\" fill=\"#AEAEAE\"></rect>\n",
    "                  <rect x=\"115\" y=\"46\" width=\"23\" height=\"23\" fill=\"white\"></rect>\n",
    "                  <rect x=\"115\" y=\"115\" width=\"23\" height=\"23\" fill=\"white\"></rect>\n",
    "                  <rect x=\"115\" y=\"69\" width=\"23\" height=\"23\" fill=\"#D9D9D9\"></rect>\n",
    "                  <rect x=\"92\" y=\"46\" width=\"23\" height=\"23\" fill=\"#AEAEAE\"></rect>\n",
    "                  <rect x=\"92\" y=\"115\" width=\"23\" height=\"23\" fill=\"#AEAEAE\"></rect>\n",
    "                  <rect x=\"92\" y=\"69\" width=\"23\" height=\"23\" fill=\"white\"></rect>\n",
    "                  <rect x=\"69\" y=\"46\" width=\"23\" height=\"23\" fill=\"white\"></rect>\n",
    "                  <rect x=\"69\" y=\"115\" width=\"23\" height=\"23\" fill=\"white\"></rect>\n",
    "                  <rect x=\"69\" y=\"69\" width=\"23\" height=\"23\" fill=\"#D9D9D9\"></rect>\n",
    "                  <rect x=\"46\" y=\"46\" width=\"23\" height=\"23\" fill=\"black\"></rect>\n",
    "                  <rect x=\"46\" y=\"115\" width=\"23\" height=\"23\" fill=\"black\"></rect>\n",
    "                  <rect x=\"46\" y=\"69\" width=\"23\" height=\"23\" fill=\"black\"></rect>\n",
    "                  <rect x=\"23\" y=\"46\" width=\"23\" height=\"23\" fill=\"#D9D9D9\"></rect>\n",
    "                  <rect x=\"23\" y=\"115\" width=\"23\" height=\"23\" fill=\"#AEAEAE\"></rect>\n",
    "                  <rect x=\"23\" y=\"69\" width=\"23\" height=\"23\" fill=\"black\"></rect>\n",
    "                </svg>\n",
    "                <h1 style=\"font-weight: 900; margin-bottom: 7px;\">\n",
    "                  Whisper\n",
    "                </h1>\n",
    "              </div>\n",
    "              <p style=\"margin-bottom: 10px; font-size: 94%\">\n",
    "                Whisper is a general-purpose speech recognition model. It is trained on a large dataset of diverse audio and is also a multi-task model that can perform multilingual speech recognition as well as speech translation and language identification. This demo cuts audio after around 30 secs.\n",
    "              </p>\n",
    "            </div>\n",
    "        \"\"\"\n",
    "    )\n",
    "    with gr.Group():\n",
    "        with gr.Box():\n",
    "            with gr.Row().style(mobile_collapse=False, equal_height=True):\n",
    "                audio = gr.Audio(\n",
    "                    label=\"Input Audio\",\n",
    "                    show_label=False,\n",
    "                    source=\"microphone\",\n",
    "                    type=\"filepath\"\n",
    "                )\n",
    "\n",
    "                btn = gr.Button(\"Transcribe\")\n",
    "        text = gr.Textbox(show_label=False, elem_id=\"result-textarea\")\n",
    "        with gr.Group(elem_id=\"share-btn-container\"):\n",
    "            community_icon = gr.HTML(community_icon_html, visible=False)\n",
    "            loading_icon = gr.HTML(loading_icon_html, visible=False)\n",
    "            share_button = gr.Button(\"Share to community\", elem_id=\"share-btn\", visible=False)\n",
    "        \n",
    "\n",
    "\n",
    "        \n",
    "        btn.click(inference, inputs=[audio], outputs=[text, community_icon, loading_icon, share_button])\n",
    "        share_button.click(None, [], [], _js=share_js)\n",
    " \n",
    "        gr.HTML('''\n",
    "        <div class=\"footer\">\n",
    "                    <p>Model by <a href=\"https://github.com/openai/whisper\" style=\"text-decoration: underline;\" target=\"_blank\">OpenAI</a> - Gradio Demo by 🤗 Hugging Face\n",
    "                    </p>\n",
    "        </div>\n",
    "        ''')\n",
    "\n",
    "block.launch()"
   ]
  },
  {
   "cell_type": "code",
   "execution_count": null,
   "metadata": {
    "id": "lQuY8YCTXgtx"
   },
   "outputs": [],
   "source": []
  }
 ],
 "metadata": {
  "accelerator": "GPU",
  "colab": {
   "provenance": []
  },
  "gpuClass": "standard",
  "kernelspec": {
   "display_name": "Python 3 (ipykernel)",
   "language": "python",
   "name": "python3"
  },
  "language_info": {
   "codemirror_mode": {
    "name": "ipython",
    "version": 3
   },
   "file_extension": ".py",
   "mimetype": "text/x-python",
   "name": "python",
   "nbconvert_exporter": "python",
   "pygments_lexer": "ipython3",
   "version": "3.9.15"
  }
 },
 "nbformat": 4,
 "nbformat_minor": 4
}
